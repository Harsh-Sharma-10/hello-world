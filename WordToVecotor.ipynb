{
  "nbformat": 4,
  "nbformat_minor": 0,
  "metadata": {
    "colab": {
      "provenance": [],
      "authorship_tag": "ABX9TyO2DZEIPf+o9cF3U54Qh1qx",
      "include_colab_link": true
    },
    "kernelspec": {
      "name": "python3",
      "display_name": "Python 3"
    },
    "language_info": {
      "name": "python"
    }
  },
  "cells": [
    {
      "cell_type": "markdown",
      "metadata": {
        "id": "view-in-github",
        "colab_type": "text"
      },
      "source": [
        "<a href=\"https://colab.research.google.com/github/Harsh-Sharma-10/hello-world/blob/main/WordToVecotor.ipynb\" target=\"_parent\"><img src=\"https://colab.research.google.com/assets/colab-badge.svg\" alt=\"Open In Colab\"/></a>"
      ]
    },
    {
      "cell_type": "code",
      "execution_count": 3,
      "metadata": {
        "id": "KW1BBTMGyG2P"
      },
      "outputs": [],
      "source": [
        "import tensorflow as tf"
      ]
    },
    {
      "cell_type": "code",
      "source": [
        "print(tf.__version__)"
      ],
      "metadata": {
        "colab": {
          "base_uri": "https://localhost:8080/"
        },
        "id": "R-NSEK2KySv8",
        "outputId": "c7df72b3-8d50-4267-f1d0-a19eab8f6fa2"
      },
      "execution_count": 5,
      "outputs": [
        {
          "output_type": "stream",
          "name": "stdout",
          "text": [
            "2.19.0\n"
          ]
        }
      ]
    },
    {
      "cell_type": "code",
      "source": [
        "from tensorflow.keras.preprocessing.text import one_hot"
      ],
      "metadata": {
        "id": "DC8_JRaUzIkv"
      },
      "execution_count": 6,
      "outputs": []
    },
    {
      "cell_type": "code",
      "source": [
        "sent=[  'the glass of milk',\n",
        "     'the glass of juice',\n",
        "     'the cup of tea',\n",
        "    'I am a good boy',\n",
        "     'I am a good developer',\n",
        "     'understand the meaning of words',\n",
        "     'your videos are good',]"
      ],
      "metadata": {
        "id": "mgZZbbVOzUnJ"
      },
      "execution_count": 7,
      "outputs": []
    },
    {
      "cell_type": "code",
      "source": [
        "sent\n"
      ],
      "metadata": {
        "colab": {
          "base_uri": "https://localhost:8080/"
        },
        "id": "-ME13p_ezeAw",
        "outputId": "dca1d009-cb66-4fab-91a3-57c202b78bc4"
      },
      "execution_count": 8,
      "outputs": [
        {
          "output_type": "execute_result",
          "data": {
            "text/plain": [
              "['the glass of milk',\n",
              " 'the glass of juice',\n",
              " 'the cup of tea',\n",
              " 'I am a good boy',\n",
              " 'I am a good developer',\n",
              " 'understand the meaning of words',\n",
              " 'your videos are good']"
            ]
          },
          "metadata": {},
          "execution_count": 8
        }
      ]
    },
    {
      "cell_type": "code",
      "source": [
        "vocab_size = 5000  ### Vocablary size   or text Size"
      ],
      "metadata": {
        "id": "s1leSRN8zfT9"
      },
      "execution_count": 19,
      "outputs": []
    },
    {
      "cell_type": "markdown",
      "source": [
        "One Hot Encoding"
      ],
      "metadata": {
        "id": "6n3GPYUI2bmA"
      }
    },
    {
      "cell_type": "code",
      "source": [
        "one_hot_rep = [one_hot(i,vocab_size)\n",
        "for i in sent]\n",
        "print(one_hot_rep)"
      ],
      "metadata": {
        "colab": {
          "base_uri": "https://localhost:8080/"
        },
        "id": "qdyUDPSjzm0X",
        "outputId": "02de295a-64bc-4c50-8ad3-c8b70de0fae4"
      },
      "execution_count": 22,
      "outputs": [
        {
          "output_type": "stream",
          "name": "stdout",
          "text": [
            "[[2566, 3632, 1492, 84], [2566, 3632, 1492, 2599], [2566, 4565, 1492, 4834], [2405, 3626, 4188, 2249, 2943], [2405, 3626, 4188, 2249, 252], [4405, 2566, 4506, 1492, 3903], [3086, 4114, 3866, 2249]]\n"
          ]
        }
      ]
    },
    {
      "cell_type": "markdown",
      "source": [
        "Word Embedding Representation"
      ],
      "metadata": {
        "id": "RvDzku632F_v"
      }
    },
    {
      "cell_type": "code",
      "source": [
        "from tensorflow.keras.layers import Embedding\n",
        "from tensorflow.keras.preprocessing.sequence import pad_sequences  # all the sentences is almost same\n",
        "from tensorflow.keras.models import Sequential"
      ],
      "metadata": {
        "id": "Zj9X3Xqf2KBA"
      },
      "execution_count": 23,
      "outputs": []
    },
    {
      "cell_type": "code",
      "source": [
        "import numpy as np"
      ],
      "metadata": {
        "id": "VoX8RAtS3C_v"
      },
      "execution_count": 24,
      "outputs": []
    },
    {
      "cell_type": "code",
      "source": [
        "length = 8      # maximum approximate length of sentances in our text\n",
        "embedded_words = pad_sequences(one_hot_rep,padding= 'pre',maxlen=length)\n",
        "print(embedded_words)"
      ],
      "metadata": {
        "colab": {
          "base_uri": "https://localhost:8080/"
        },
        "id": "FGa23hX93Lfb",
        "outputId": "d791af2e-711b-4ef9-e4d9-a143b45b25cd"
      },
      "execution_count": 50,
      "outputs": [
        {
          "output_type": "stream",
          "name": "stdout",
          "text": [
            "[[   0    0    0    0 2566 3632 1492   84]\n",
            " [   0    0    0    0 2566 3632 1492 2599]\n",
            " [   0    0    0    0 2566 4565 1492 4834]\n",
            " [   0    0    0 2405 3626 4188 2249 2943]\n",
            " [   0    0    0 2405 3626 4188 2249  252]\n",
            " [   0    0    0 4405 2566 4506 1492 3903]\n",
            " [   0    0    0    0 3086 4114 3866 2249]]\n"
          ]
        }
      ]
    },
    {
      "cell_type": "code",
      "source": [
        "dim = 10   # dimentions - features on which we represent the word vector"
      ],
      "metadata": {
        "id": "DN_i6L7A4LYw"
      },
      "execution_count": 51,
      "outputs": []
    },
    {
      "cell_type": "code",
      "source": [
        "model=Sequential()\n",
        "model.add(Embedding(vocab_size,dim,input_length=length))\n",
        "model.compile('adam','mse')"
      ],
      "metadata": {
        "colab": {
          "base_uri": "https://localhost:8080/"
        },
        "id": "-QGKGXEB4hcw",
        "outputId": "c3fb0ae7-92f1-4995-d350-3e79bb5cd060"
      },
      "execution_count": 52,
      "outputs": [
        {
          "output_type": "stream",
          "name": "stderr",
          "text": [
            "/usr/local/lib/python3.12/dist-packages/keras/src/layers/core/embedding.py:97: UserWarning: Argument `input_length` is deprecated. Just remove it.\n",
            "  warnings.warn(\n"
          ]
        }
      ]
    },
    {
      "cell_type": "code",
      "source": [
        "model.summary()"
      ],
      "metadata": {
        "colab": {
          "base_uri": "https://localhost:8080/",
          "height": 161
        },
        "id": "Cf6qqfFZ6E07",
        "outputId": "c64e02b0-e989-49fa-db1f-1b56ea520622"
      },
      "execution_count": 53,
      "outputs": [
        {
          "output_type": "display_data",
          "data": {
            "text/plain": [
              "\u001b[1mModel: \"sequential_2\"\u001b[0m\n"
            ],
            "text/html": [
              "<pre style=\"white-space:pre;overflow-x:auto;line-height:normal;font-family:Menlo,'DejaVu Sans Mono',consolas,'Courier New',monospace\"><span style=\"font-weight: bold\">Model: \"sequential_2\"</span>\n",
              "</pre>\n"
            ]
          },
          "metadata": {}
        },
        {
          "output_type": "display_data",
          "data": {
            "text/plain": [
              "┏━━━━━━━━━━━━━━━━━━━━━━━━━━━━━━━━━┳━━━━━━━━━━━━━━━━━━━━━━━━┳━━━━━━━━━━━━━━━┓\n",
              "┃\u001b[1m \u001b[0m\u001b[1mLayer (type)                   \u001b[0m\u001b[1m \u001b[0m┃\u001b[1m \u001b[0m\u001b[1mOutput Shape          \u001b[0m\u001b[1m \u001b[0m┃\u001b[1m \u001b[0m\u001b[1m      Param #\u001b[0m\u001b[1m \u001b[0m┃\n",
              "┡━━━━━━━━━━━━━━━━━━━━━━━━━━━━━━━━━╇━━━━━━━━━━━━━━━━━━━━━━━━╇━━━━━━━━━━━━━━━┩\n",
              "│ embedding_2 (\u001b[38;5;33mEmbedding\u001b[0m)         │ ?                      │   \u001b[38;5;34m0\u001b[0m (unbuilt) │\n",
              "└─────────────────────────────────┴────────────────────────┴───────────────┘\n"
            ],
            "text/html": [
              "<pre style=\"white-space:pre;overflow-x:auto;line-height:normal;font-family:Menlo,'DejaVu Sans Mono',consolas,'Courier New',monospace\">┏━━━━━━━━━━━━━━━━━━━━━━━━━━━━━━━━━┳━━━━━━━━━━━━━━━━━━━━━━━━┳━━━━━━━━━━━━━━━┓\n",
              "┃<span style=\"font-weight: bold\"> Layer (type)                    </span>┃<span style=\"font-weight: bold\"> Output Shape           </span>┃<span style=\"font-weight: bold\">       Param # </span>┃\n",
              "┡━━━━━━━━━━━━━━━━━━━━━━━━━━━━━━━━━╇━━━━━━━━━━━━━━━━━━━━━━━━╇━━━━━━━━━━━━━━━┩\n",
              "│ embedding_2 (<span style=\"color: #0087ff; text-decoration-color: #0087ff\">Embedding</span>)         │ ?                      │   <span style=\"color: #00af00; text-decoration-color: #00af00\">0</span> (unbuilt) │\n",
              "└─────────────────────────────────┴────────────────────────┴───────────────┘\n",
              "</pre>\n"
            ]
          },
          "metadata": {}
        },
        {
          "output_type": "display_data",
          "data": {
            "text/plain": [
              "\u001b[1m Total params: \u001b[0m\u001b[38;5;34m0\u001b[0m (0.00 B)\n"
            ],
            "text/html": [
              "<pre style=\"white-space:pre;overflow-x:auto;line-height:normal;font-family:Menlo,'DejaVu Sans Mono',consolas,'Courier New',monospace\"><span style=\"font-weight: bold\"> Total params: </span><span style=\"color: #00af00; text-decoration-color: #00af00\">0</span> (0.00 B)\n",
              "</pre>\n"
            ]
          },
          "metadata": {}
        },
        {
          "output_type": "display_data",
          "data": {
            "text/plain": [
              "\u001b[1m Trainable params: \u001b[0m\u001b[38;5;34m0\u001b[0m (0.00 B)\n"
            ],
            "text/html": [
              "<pre style=\"white-space:pre;overflow-x:auto;line-height:normal;font-family:Menlo,'DejaVu Sans Mono',consolas,'Courier New',monospace\"><span style=\"font-weight: bold\"> Trainable params: </span><span style=\"color: #00af00; text-decoration-color: #00af00\">0</span> (0.00 B)\n",
              "</pre>\n"
            ]
          },
          "metadata": {}
        },
        {
          "output_type": "display_data",
          "data": {
            "text/plain": [
              "\u001b[1m Non-trainable params: \u001b[0m\u001b[38;5;34m0\u001b[0m (0.00 B)\n"
            ],
            "text/html": [
              "<pre style=\"white-space:pre;overflow-x:auto;line-height:normal;font-family:Menlo,'DejaVu Sans Mono',consolas,'Courier New',monospace\"><span style=\"font-weight: bold\"> Non-trainable params: </span><span style=\"color: #00af00; text-decoration-color: #00af00\">0</span> (0.00 B)\n",
              "</pre>\n"
            ]
          },
          "metadata": {}
        }
      ]
    },
    {
      "cell_type": "code",
      "source": [
        "print(model.predict(embedded_words))"
      ],
      "metadata": {
        "colab": {
          "base_uri": "https://localhost:8080/"
        },
        "id": "oayPMujY6JPx",
        "outputId": "13920b47-536b-4516-ca56-59824119f940"
      },
      "execution_count": 54,
      "outputs": [
        {
          "output_type": "stream",
          "name": "stdout",
          "text": [
            "\u001b[1m1/1\u001b[0m \u001b[32m━━━━━━━━━━━━━━━━━━━━\u001b[0m\u001b[37m\u001b[0m \u001b[1m0s\u001b[0m 111ms/step\n",
            "[[[ 0.03888107  0.00830911 -0.04164775  0.02966917  0.03969764\n",
            "   -0.0122228   0.03362352 -0.04114052 -0.00497079 -0.03469687]\n",
            "  [ 0.03888107  0.00830911 -0.04164775  0.02966917  0.03969764\n",
            "   -0.0122228   0.03362352 -0.04114052 -0.00497079 -0.03469687]\n",
            "  [ 0.03888107  0.00830911 -0.04164775  0.02966917  0.03969764\n",
            "   -0.0122228   0.03362352 -0.04114052 -0.00497079 -0.03469687]\n",
            "  [ 0.03888107  0.00830911 -0.04164775  0.02966917  0.03969764\n",
            "   -0.0122228   0.03362352 -0.04114052 -0.00497079 -0.03469687]\n",
            "  [-0.00237183 -0.01584886  0.01343126  0.01727441 -0.00129235\n",
            "    0.00542726  0.0293839   0.01191378 -0.03137411  0.02712486]\n",
            "  [ 0.04242799  0.0180801  -0.04280105  0.03233022  0.00082985\n",
            "    0.04869327 -0.02314636 -0.0334325   0.03246489  0.03557216]\n",
            "  [-0.00083578 -0.04237281  0.01675191 -0.03850322 -0.0192937\n",
            "   -0.0148256  -0.04635017 -0.01440594  0.00370418 -0.01470852]\n",
            "  [-0.0160764  -0.02189687  0.04092832  0.00463676 -0.0053517\n",
            "   -0.01033175 -0.00192233  0.02548552 -0.01764469 -0.03563543]]\n",
            "\n",
            " [[ 0.03888107  0.00830911 -0.04164775  0.02966917  0.03969764\n",
            "   -0.0122228   0.03362352 -0.04114052 -0.00497079 -0.03469687]\n",
            "  [ 0.03888107  0.00830911 -0.04164775  0.02966917  0.03969764\n",
            "   -0.0122228   0.03362352 -0.04114052 -0.00497079 -0.03469687]\n",
            "  [ 0.03888107  0.00830911 -0.04164775  0.02966917  0.03969764\n",
            "   -0.0122228   0.03362352 -0.04114052 -0.00497079 -0.03469687]\n",
            "  [ 0.03888107  0.00830911 -0.04164775  0.02966917  0.03969764\n",
            "   -0.0122228   0.03362352 -0.04114052 -0.00497079 -0.03469687]\n",
            "  [-0.00237183 -0.01584886  0.01343126  0.01727441 -0.00129235\n",
            "    0.00542726  0.0293839   0.01191378 -0.03137411  0.02712486]\n",
            "  [ 0.04242799  0.0180801  -0.04280105  0.03233022  0.00082985\n",
            "    0.04869327 -0.02314636 -0.0334325   0.03246489  0.03557216]\n",
            "  [-0.00083578 -0.04237281  0.01675191 -0.03850322 -0.0192937\n",
            "   -0.0148256  -0.04635017 -0.01440594  0.00370418 -0.01470852]\n",
            "  [-0.03095737  0.03699451  0.00223055 -0.03495617  0.00362168\n",
            "   -0.03017773  0.03487817  0.03458687  0.0475702   0.00026327]]\n",
            "\n",
            " [[ 0.03888107  0.00830911 -0.04164775  0.02966917  0.03969764\n",
            "   -0.0122228   0.03362352 -0.04114052 -0.00497079 -0.03469687]\n",
            "  [ 0.03888107  0.00830911 -0.04164775  0.02966917  0.03969764\n",
            "   -0.0122228   0.03362352 -0.04114052 -0.00497079 -0.03469687]\n",
            "  [ 0.03888107  0.00830911 -0.04164775  0.02966917  0.03969764\n",
            "   -0.0122228   0.03362352 -0.04114052 -0.00497079 -0.03469687]\n",
            "  [ 0.03888107  0.00830911 -0.04164775  0.02966917  0.03969764\n",
            "   -0.0122228   0.03362352 -0.04114052 -0.00497079 -0.03469687]\n",
            "  [-0.00237183 -0.01584886  0.01343126  0.01727441 -0.00129235\n",
            "    0.00542726  0.0293839   0.01191378 -0.03137411  0.02712486]\n",
            "  [-0.00160654 -0.01586425  0.02294585 -0.01454655  0.0323975\n",
            "    0.0044258   0.01254993  0.00444847  0.04121897  0.00802761]\n",
            "  [-0.00083578 -0.04237281  0.01675191 -0.03850322 -0.0192937\n",
            "   -0.0148256  -0.04635017 -0.01440594  0.00370418 -0.01470852]\n",
            "  [ 0.03024595  0.02970261  0.00368364 -0.00185706  0.02641184\n",
            "    0.00181975  0.01959965 -0.03563988  0.03546968 -0.03014345]]\n",
            "\n",
            " [[ 0.03888107  0.00830911 -0.04164775  0.02966917  0.03969764\n",
            "   -0.0122228   0.03362352 -0.04114052 -0.00497079 -0.03469687]\n",
            "  [ 0.03888107  0.00830911 -0.04164775  0.02966917  0.03969764\n",
            "   -0.0122228   0.03362352 -0.04114052 -0.00497079 -0.03469687]\n",
            "  [ 0.03888107  0.00830911 -0.04164775  0.02966917  0.03969764\n",
            "   -0.0122228   0.03362352 -0.04114052 -0.00497079 -0.03469687]\n",
            "  [ 0.02997134  0.00759009 -0.01120825  0.01391392 -0.03278341\n",
            "   -0.04325471 -0.00946819  0.03415451  0.01265832  0.03276205]\n",
            "  [ 0.03836929 -0.01516096 -0.00519365 -0.02030016 -0.0064115\n",
            "   -0.04022505  0.0497203   0.00535361 -0.01345076  0.01031904]\n",
            "  [ 0.04163754  0.00264286 -0.01984526  0.04974877  0.02103379\n",
            "   -0.01833417  0.02503381  0.00919984  0.00274888 -0.010713  ]\n",
            "  [ 0.01249428  0.04139966 -0.02599421  0.03912044  0.04885078\n",
            "    0.02378175  0.04759696 -0.02616916  0.00443567 -0.02586648]\n",
            "  [ 0.00497756  0.01121974 -0.00894077 -0.04780177  0.04394731\n",
            "   -0.02337801 -0.02898749  0.01102462  0.01336977 -0.03518596]]\n",
            "\n",
            " [[ 0.03888107  0.00830911 -0.04164775  0.02966917  0.03969764\n",
            "   -0.0122228   0.03362352 -0.04114052 -0.00497079 -0.03469687]\n",
            "  [ 0.03888107  0.00830911 -0.04164775  0.02966917  0.03969764\n",
            "   -0.0122228   0.03362352 -0.04114052 -0.00497079 -0.03469687]\n",
            "  [ 0.03888107  0.00830911 -0.04164775  0.02966917  0.03969764\n",
            "   -0.0122228   0.03362352 -0.04114052 -0.00497079 -0.03469687]\n",
            "  [ 0.02997134  0.00759009 -0.01120825  0.01391392 -0.03278341\n",
            "   -0.04325471 -0.00946819  0.03415451  0.01265832  0.03276205]\n",
            "  [ 0.03836929 -0.01516096 -0.00519365 -0.02030016 -0.0064115\n",
            "   -0.04022505  0.0497203   0.00535361 -0.01345076  0.01031904]\n",
            "  [ 0.04163754  0.00264286 -0.01984526  0.04974877  0.02103379\n",
            "   -0.01833417  0.02503381  0.00919984  0.00274888 -0.010713  ]\n",
            "  [ 0.01249428  0.04139966 -0.02599421  0.03912044  0.04885078\n",
            "    0.02378175  0.04759696 -0.02616916  0.00443567 -0.02586648]\n",
            "  [ 0.02652868 -0.021065   -0.00429462 -0.0354751  -0.0027614\n",
            "    0.03358981  0.01017126 -0.00187256  0.0313982   0.03993145]]\n",
            "\n",
            " [[ 0.03888107  0.00830911 -0.04164775  0.02966917  0.03969764\n",
            "   -0.0122228   0.03362352 -0.04114052 -0.00497079 -0.03469687]\n",
            "  [ 0.03888107  0.00830911 -0.04164775  0.02966917  0.03969764\n",
            "   -0.0122228   0.03362352 -0.04114052 -0.00497079 -0.03469687]\n",
            "  [ 0.03888107  0.00830911 -0.04164775  0.02966917  0.03969764\n",
            "   -0.0122228   0.03362352 -0.04114052 -0.00497079 -0.03469687]\n",
            "  [ 0.0255858   0.04771911  0.01454934  0.01458626  0.02687278\n",
            "   -0.03875232  0.00436075  0.0197706  -0.02772821 -0.00065132]\n",
            "  [-0.00237183 -0.01584886  0.01343126  0.01727441 -0.00129235\n",
            "    0.00542726  0.0293839   0.01191378 -0.03137411  0.02712486]\n",
            "  [-0.00265992  0.03600046 -0.04037036  0.04936877 -0.02912567\n",
            "    0.04899213  0.04411663 -0.03836717 -0.02709479 -0.00774993]\n",
            "  [-0.00083578 -0.04237281  0.01675191 -0.03850322 -0.0192937\n",
            "   -0.0148256  -0.04635017 -0.01440594  0.00370418 -0.01470852]\n",
            "  [-0.02146572 -0.02680765  0.03041393  0.04937747  0.04516197\n",
            "    0.00882405  0.03619859 -0.0421201  -0.02267557  0.049319  ]]\n",
            "\n",
            " [[ 0.03888107  0.00830911 -0.04164775  0.02966917  0.03969764\n",
            "   -0.0122228   0.03362352 -0.04114052 -0.00497079 -0.03469687]\n",
            "  [ 0.03888107  0.00830911 -0.04164775  0.02966917  0.03969764\n",
            "   -0.0122228   0.03362352 -0.04114052 -0.00497079 -0.03469687]\n",
            "  [ 0.03888107  0.00830911 -0.04164775  0.02966917  0.03969764\n",
            "   -0.0122228   0.03362352 -0.04114052 -0.00497079 -0.03469687]\n",
            "  [ 0.03888107  0.00830911 -0.04164775  0.02966917  0.03969764\n",
            "   -0.0122228   0.03362352 -0.04114052 -0.00497079 -0.03469687]\n",
            "  [ 0.00474828 -0.0399101   0.04558321  0.0313643   0.00452981\n",
            "    0.01348484 -0.0332147   0.00320534 -0.0293635   0.04421656]\n",
            "  [-0.01204679 -0.02952014 -0.00539427 -0.04165015 -0.04576641\n",
            "   -0.042792    0.03750876 -0.00655906  0.0270632   0.03362309]\n",
            "  [-0.01322997 -0.03518146  0.01525399  0.01526554  0.0118891\n",
            "    0.03722144 -0.0093583   0.02604855 -0.03082823  0.04450433]\n",
            "  [ 0.01249428  0.04139966 -0.02599421  0.03912044  0.04885078\n",
            "    0.02378175  0.04759696 -0.02616916  0.00443567 -0.02586648]]]\n"
          ]
        }
      ]
    },
    {
      "cell_type": "code",
      "source": [
        "embedded_words[0]"
      ],
      "metadata": {
        "colab": {
          "base_uri": "https://localhost:8080/"
        },
        "id": "hajhi_op6YG2",
        "outputId": "94abbc25-ecf9-4186-d418-cb05907a9675"
      },
      "execution_count": 55,
      "outputs": [
        {
          "output_type": "execute_result",
          "data": {
            "text/plain": [
              "array([   0,    0,    0,    0, 2566, 3632, 1492,   84], dtype=int32)"
            ]
          },
          "metadata": {},
          "execution_count": 55
        }
      ]
    },
    {
      "cell_type": "code",
      "source": [
        "print(model.predict(embedded_words)[0])"
      ],
      "metadata": {
        "colab": {
          "base_uri": "https://localhost:8080/"
        },
        "id": "BfL0LZRr6xYg",
        "outputId": "c877d38e-a7cd-4d0f-f1fb-f5bd81436fe8"
      },
      "execution_count": 56,
      "outputs": [
        {
          "output_type": "stream",
          "name": "stdout",
          "text": [
            "\u001b[1m1/1\u001b[0m \u001b[32m━━━━━━━━━━━━━━━━━━━━\u001b[0m\u001b[37m\u001b[0m \u001b[1m0s\u001b[0m 34ms/step\n",
            "[[ 0.03888107  0.00830911 -0.04164775  0.02966917  0.03969764 -0.0122228\n",
            "   0.03362352 -0.04114052 -0.00497079 -0.03469687]\n",
            " [ 0.03888107  0.00830911 -0.04164775  0.02966917  0.03969764 -0.0122228\n",
            "   0.03362352 -0.04114052 -0.00497079 -0.03469687]\n",
            " [ 0.03888107  0.00830911 -0.04164775  0.02966917  0.03969764 -0.0122228\n",
            "   0.03362352 -0.04114052 -0.00497079 -0.03469687]\n",
            " [ 0.03888107  0.00830911 -0.04164775  0.02966917  0.03969764 -0.0122228\n",
            "   0.03362352 -0.04114052 -0.00497079 -0.03469687]\n",
            " [-0.00237183 -0.01584886  0.01343126  0.01727441 -0.00129235  0.00542726\n",
            "   0.0293839   0.01191378 -0.03137411  0.02712486]\n",
            " [ 0.04242799  0.0180801  -0.04280105  0.03233022  0.00082985  0.04869327\n",
            "  -0.02314636 -0.0334325   0.03246489  0.03557216]\n",
            " [-0.00083578 -0.04237281  0.01675191 -0.03850322 -0.0192937  -0.0148256\n",
            "  -0.04635017 -0.01440594  0.00370418 -0.01470852]\n",
            " [-0.0160764  -0.02189687  0.04092832  0.00463676 -0.0053517  -0.01033175\n",
            "  -0.00192233  0.02548552 -0.01764469 -0.03563543]]\n"
          ]
        }
      ]
    },
    {
      "cell_type": "code",
      "source": [],
      "metadata": {
        "id": "l7QEN1Ms64GH"
      },
      "execution_count": 56,
      "outputs": []
    },
    {
      "cell_type": "markdown",
      "source": [
        "Single word i.e at loaction [ i , j ]"
      ],
      "metadata": {
        "id": "BWDIckho9Df-"
      }
    },
    {
      "cell_type": "code",
      "source": [
        "print(embedded_words[0][4])"
      ],
      "metadata": {
        "colab": {
          "base_uri": "https://localhost:8080/"
        },
        "id": "RTrzk5iW7hf-",
        "outputId": "fa535e07-8e19-48d1-f82c-ca4f2d9f264a"
      },
      "execution_count": 57,
      "outputs": [
        {
          "output_type": "stream",
          "name": "stdout",
          "text": [
            "2566\n"
          ]
        }
      ]
    },
    {
      "cell_type": "markdown",
      "source": [
        "Vector representation of Word at [ i , j ] of embedded_words"
      ],
      "metadata": {
        "id": "qSMJuqr09YOQ"
      }
    },
    {
      "cell_type": "code",
      "source": [
        "\n",
        "print(model.predict(embedded_words)[0][4])"
      ],
      "metadata": {
        "colab": {
          "base_uri": "https://localhost:8080/"
        },
        "id": "uq--rHaR7tdq",
        "outputId": "d5f8b967-80c9-4603-9337-6b1fc40fd4dd"
      },
      "execution_count": 63,
      "outputs": [
        {
          "output_type": "stream",
          "name": "stdout",
          "text": [
            "\u001b[1m1/1\u001b[0m \u001b[32m━━━━━━━━━━━━━━━━━━━━\u001b[0m\u001b[37m\u001b[0m \u001b[1m0s\u001b[0m 34ms/step\n",
            "[-0.00237183 -0.01584886  0.01343126  0.01727441 -0.00129235  0.00542726\n",
            "  0.0293839   0.01191378 -0.03137411  0.02712486]\n"
          ]
        }
      ]
    },
    {
      "cell_type": "markdown",
      "source": [],
      "metadata": {
        "id": "zV-0jJCP9CiG"
      }
    },
    {
      "cell_type": "code",
      "source": [],
      "metadata": {
        "id": "jME4OWt28Kqi"
      },
      "execution_count": 59,
      "outputs": []
    }
  ]
}